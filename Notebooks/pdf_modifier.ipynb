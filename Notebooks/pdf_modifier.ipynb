{
 "cells": [
  {
   "cell_type": "code",
   "execution_count": 68,
   "metadata": {},
   "outputs": [],
   "source": [
    "import fitz  # PyMuPDF\n",
    "import datetime\n",
    "\n",
    "def clampImageDimensions(image):\n",
    "    \n",
    "    return [size_x, size_y]\n",
    "\n",
    "def replace_text_in_pdf(input_pdf_path, output_pdf_path, replacements, offsets):\n",
    "    pdf_document = fitz.open(input_pdf_path)\n",
    "    \n",
    "    for page_num in range(pdf_document.page_count):\n",
    "        page = pdf_document[page_num]\n",
    "        for search_text, replace_text in replacements.items():\n",
    "            text_instances = page.search_for(search_text)\n",
    "            for inst in reversed(text_instances):\n",
    "                x1, y1, x2, y2 = inst  # Get the bounding box of the old text\n",
    "                _x1, _y1, _x2, _y2 = x1 + offsets[0], y1 + offsets[1], x2 + offsets[2], y2 + offsets[3]\n",
    "                if(type(replace_text) == list):\n",
    "                    # rect = fitz.Rect(x1, y1, x2, y2)\n",
    "                    # page.draw_rect((x1, y1, x2, y2), color=(1, 1, 1), fill=(1, 1, 1), overlay=True)  # Draw a filled rectangle to cover the old text\n",
    "\n",
    "                    image_rect = fitz.Rect(_x1 + offsets[0] - replace_text[2][0], _y1 + offsets[1] - replace_text[2][1], _x1 + replace_text[2][2] + replace_text[1][0], _y1 +replace_text[2][3] + replace_text[1][1])\n",
    "                    page.insert_image(image_rect, filename=replace_text[0])\n",
    "                    # image stuff\n",
    "                else:\n",
    "                    rect = fitz.Rect(x1, y1, x2, y2)\n",
    "                    page.draw_rect((x1, y1, x2, y2), color=(1, 1, 1), fill=(1, 1, 1), overlay=True)  # Draw a filled rectangle to cover the old text\n",
    "                    page.insert_text((_x1, _y1), replace_text, fontsize=13, color=(0, 0, 0))  # Insert the new text\n",
    "\n",
    "    pdf_document.save(output_pdf_path)\n",
    "    pdf_document.close()\n",
    "\n",
    "# Example usage:\n",
    "input_pdf_path = './BRAIN TUMOR ANALYSIS REPORT.pdf'\n",
    "output_pdf_path = './BRAIN TUMOR ANALYSIS REPORT - Processed.pdf'\n",
    "\n",
    "replacements = {\n",
    "    '<report_number>': '130013',\n",
    "    '<patient_id>': 'A21KM-12',\n",
    "    '<patient_age>': '23',\n",
    "    '<scan_date>': '12 / 2 / 2004',\n",
    "    '<analysis_date>': f'{datetime.datetime.now().day} / {datetime.datetime.now().month} / {datetime.datetime.now().year}'.replace(\"-\",\" / \"),\n",
    "    '<image_type>': 'MRI - T1, T2 and FLAIR',\n",
    "    '<roi>': ['./Images/sample_image_0.jpg', [230, 230], [4.1,22,4.7,10]],\n",
    "    '<gradcam>': ['./Images/sample_image_0.jpg', [230, 230], [4.1,22,4.7,10]],\n",
    "\n",
    "    # Add more key-value pairs for other text replacements\n",
    "    # use \"/\" for image path, automatically understands that its an image replacement\n",
    "}\n",
    "\n",
    "offsets = [0, 10.5, 0, 13]\n",
    "replace_text_in_pdf(input_pdf_path, output_pdf_path, replacements, offsets)\n"
   ]
  },
  {
   "cell_type": "code",
   "execution_count": 12,
   "metadata": {},
   "outputs": [
    {
     "name": "stdout",
     "output_type": "stream",
     "text": [
      "dict_keys(['grade', 'IDH_Type', 'MGMT', 'pq'])\n"
     ]
    }
   ],
   "source": [
    "x = '{grade: g3, IDH_Type: mutant, MGMT: unmethylated, pq: codeleted}'\n",
    "json_str = x.replace('{', '{\"').replace('}', '\"}').replace(', ', '\", \"').replace(': ', '\": \"')\n",
    "print(eval(json_str).keys())"
   ]
  }
 ],
 "metadata": {
  "kernelspec": {
   "display_name": "pip_modules",
   "language": "python",
   "name": "python3"
  },
  "language_info": {
   "codemirror_mode": {
    "name": "ipython",
    "version": 3
   },
   "file_extension": ".py",
   "mimetype": "text/x-python",
   "name": "python",
   "nbconvert_exporter": "python",
   "pygments_lexer": "ipython3",
   "version": "3.10.7"
  },
  "orig_nbformat": 4
 },
 "nbformat": 4,
 "nbformat_minor": 2
}
