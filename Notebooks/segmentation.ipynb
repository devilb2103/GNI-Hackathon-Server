{
 "cells": [
  {
   "cell_type": "code",
   "execution_count": 4,
   "metadata": {},
   "outputs": [
    {
     "name": "stdout",
     "output_type": "stream",
     "text": [
      "Segmentation Models: using `tf.keras` framework.\n"
     ]
    }
   ],
   "source": [
    "import os\n",
    "os.environ[\"SM_FRAMEWORK\"] = \"tf.keras\"\n",
    "from PIL import ImageOps, Image\n",
    "import tensorflow as tf\n",
    "from tensorflow.keras.utils import load_img, img_to_array\n",
    "import cv2\n",
    "import segmentation_models\n",
    "import numpy as np\n",
    "import matplotlib.pyplot as plt\n",
    "model = tf.keras.models.load_model(\"../Models/brain tumour segmentation model.h5\",compile=False)"
   ]
  },
  {
   "cell_type": "code",
   "execution_count": 34,
   "metadata": {},
   "outputs": [
    {
     "name": "stdout",
     "output_type": "stream",
     "text": [
      "[[[68.  1. 84.]\n",
      "  [68.  1. 84.]\n",
      "  [68.  1. 84.]\n",
      "  ...\n",
      "  [68.  1. 84.]\n",
      "  [68.  1. 84.]\n",
      "  [68.  1. 84.]]\n",
      "\n",
      " [[68.  1. 84.]\n",
      "  [68.  1. 84.]\n",
      "  [68.  1. 84.]\n",
      "  ...\n",
      "  [68.  1. 84.]\n",
      "  [68.  1. 84.]\n",
      "  [68.  1. 84.]]\n",
      "\n",
      " [[68.  1. 84.]\n",
      "  [68.  1. 84.]\n",
      "  [68.  1. 84.]\n",
      "  ...\n",
      "  [68.  1. 84.]\n",
      "  [68.  1. 84.]\n",
      "  [68.  1. 84.]]\n",
      "\n",
      " ...\n",
      "\n",
      " [[68.  1. 84.]\n",
      "  [68.  1. 84.]\n",
      "  [68.  1. 84.]\n",
      "  ...\n",
      "  [68.  1. 84.]\n",
      "  [68.  1. 84.]\n",
      "  [68.  1. 84.]]\n",
      "\n",
      " [[68.  1. 84.]\n",
      "  [68.  1. 84.]\n",
      "  [68.  1. 84.]\n",
      "  ...\n",
      "  [68.  1. 84.]\n",
      "  [68.  1. 84.]\n",
      "  [68.  1. 84.]]\n",
      "\n",
      " [[68.  1. 84.]\n",
      "  [68.  1. 84.]\n",
      "  [68.  1. 84.]\n",
      "  ...\n",
      "  [68.  1. 84.]\n",
      "  [68.  1. 84.]\n",
      "  [68.  1. 84.]]]\n",
      "(1, 256, 256, 3)\n",
      "1/1 [==============================] - 0s 215ms/step\n"
     ]
    }
   ],
   "source": [
    "images = cv2.imread('../flair.png', 0)\n",
    "print(images)\n",
    "images = [cv2.imread('../flair.png', 0), cv2.imread('../flair.png', 0), cv2.imread('../flair.png', 0)]\n",
    "images = np.stack(images, axis=-1)\n",
    "# plt.imshow(images)\n",
    "print(images.shape)\n",
    "img=cv2.resize(images ,(256,256))\n",
    "im=img/255\n",
    "im=np.expand_dims(im,axis=0)\n",
    "im=im.astype(np.float32)\n",
    "print(im.shape)\n",
    "out=model.predict(im)"
   ]
  },
  {
   "cell_type": "code",
   "execution_count": 35,
   "metadata": {},
   "outputs": [
    {
     "data": {
      "text/plain": [
       "Text(0.5, 1.0, 'Segmented')"
      ]
     },
     "execution_count": 35,
     "metadata": {},
     "output_type": "execute_result"
    },
    {
     "data": {
      "image/png": "[encoded data removed]",
      "text/plain": [
       "<Figure size 640x480 with 2 Axes>"
      ]
     },
     "metadata": {},
     "output_type": "display_data"
    }
   ],
   "source": [
    "import matplotlib.pyplot as plt\n",
    "segmented = np.argmax(out, axis=-1)\n",
    "plt.subplot(1,2,1)\n",
    "plt.imshow(img)\n",
    "plt.title(\"Original\")\n",
    "plt.subplot(1,2,2)\n",
    "plt.imshow(segmented[0])\n",
    "plt.title(\"Segmented\")"
   ]
  },
  {
   "cell_type": "code",
   "execution_count": 45,
   "metadata": {},
   "outputs": [
    {
     "name": "stdout",
     "output_type": "stream",
     "text": [
      "0\n",
      "1\n",
      "17\n",
      "8\n",
      "21\n",
      "11\n",
      "9\n",
      "14\n",
      "13\n",
      "5\n",
      "12\n",
      "10\n",
      "6\n",
      "15\n",
      "4\n",
      "3\n",
      "20\n",
      "18\n",
      "19\n",
      "16\n"
     ]
    }
   ],
   "source": [
    "images = cv2.imread('../Images/T1 T2 Flair Dataset/TCGA-02-0011-38-flair-wild.png', 1)\n",
    "maps = [cv2.COLORMAP_AUTUMN, cv2.COLORMAP_BONE, cv2.COLORMAP_CIVIDIS, cv2.COLORMAP_COOL, cv2.COLORMAP_DEEPGREEN, cv2.COLORMAP_HOT, cv2.COLORMAP_HSV, cv2.COLORMAP_INFERNO, cv2.COLORMAP_MAGMA, cv2.COLORMAP_OCEAN, cv2.COLORMAP_PARULA, cv2.COLORMAP_PINK, cv2.COLORMAP_SUMMER, cv2.COLORMAP_PLASMA, cv2.COLORMAP_RAINBOW, cv2.COLORMAP_WINTER, cv2.COLORMAP_TURBO, cv2.COLORMAP_TWILIGHT, cv2.COLORMAP_TWILIGHT_SHIFTED, cv2.COLORMAP_VIRIDIS]\n",
    "for i in maps:\n",
    "    converted = cv2.applyColorMap(images, i)\n",
    "    print(i)\n",
    "    cv2.imwrite(f\"../Images/maps/{str(i)}.png\", converted)"
   ]
  }
 ],
 "metadata": {
  "kernelspec": {
   "display_name": "pip_modules",
   "language": "python",
   "name": "python3"
  },
  "language_info": {
   "codemirror_mode": {
    "name": "ipython",
    "version": 3
   },
   "file_extension": ".py",
   "mimetype": "text/x-python",
   "name": "python",
   "nbconvert_exporter": "python",
   "pygments_lexer": "ipython3",
   "version": "3.10.7"
  },
  "orig_nbformat": 4
 },
 "nbformat": 4,
 "nbformat_minor": 2
}
